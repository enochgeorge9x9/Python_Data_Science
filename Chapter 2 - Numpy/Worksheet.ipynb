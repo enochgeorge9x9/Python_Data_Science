{
 "cells": [
  {
   "cell_type": "code",
   "execution_count": null,
   "metadata": {},
   "outputs": [],
   "source": [
    "import numpy as np\n",
    "np.__version__\n",
    "l = list(range(10))\n",
    "l (list of ints)"
   ]
  },
  {
   "cell_type": "code",
   "execution_count": null,
   "metadata": {},
   "outputs": [],
   "source": [
    "l2 = [str(c) for c in l]\n",
    "l2 (list of strings)"
   ]
  },
  {
   "cell_type": "markdown",
   "metadata": {},
   "source": [
    "# Creating Array from Python Lists"
   ]
  },
  {
   "cell_type": "code",
   "execution_count": null,
   "metadata": {},
   "outputs": [],
   "source": [
    "#integer array:\n",
    "import numpy as numpy\n",
    "np.array([1,4,2.98,5,3], dtype='float32')"
   ]
  },
  {
   "cell_type": "code",
   "execution_count": null,
   "metadata": {},
   "outputs": [],
   "source": [
    "#nested lists result in multidimensional arrays\n",
    "np.array([range(i, i+3) for i in [2,4,6]])"
   ]
  },
  {
   "cell_type": "markdown",
   "metadata": {},
   "source": [
    "Creating Arrays from Scratch"
   ]
  },
  {
   "cell_type": "code",
   "execution_count": null,
   "metadata": {},
   "outputs": [],
   "source": [
    "import numpy as np\n",
    "#Create a length -10 integer array filled with zeros\n",
    "np.zeros(10, dtype=int)\n",
    "\n",
    "#Create a 3x5 floating-point array filled with 1s\n",
    "np.ones((3,5), dtype=float)\n",
    "\n",
    "#Create a 3x5 array with with 3.14\n",
    "np.full((3,5), 3.14)\n",
    "\n",
    "#Create an array filled with linear sequence \n",
    "#Starting at 0, ending at 20, stepping by 2\n",
    "#(This is similar to the built - range() function)\n",
    "np.arange(0,20, 2)\n",
    "\n",
    "\n",
    "#Crate an array of five values evenly spaced between 0 and 1 \n",
    "np.linspace(0,1,5)\n",
    "\n",
    "#Create a 3x3 array of uniformly distributed random values between 0 and 1 \n",
    "\n",
    "np.random.random((3,3))\n",
    "\n",
    "#Create a 3x3 array of random integers in the interval (0,10)\n",
    "np.random.randint(0,10,(3,3))\n",
    "\n",
    "#Create a 3x3 identity matrix\n",
    "np.eye(3)\n",
    "\n",
    "#Create an uninitialized array of three integers\n",
    "#The values will be whatever happens to already exist at that memory location\n",
    "np.empty(3)"
   ]
  },
  {
   "cell_type": "markdown",
   "metadata": {},
   "source": [
    "# Numpy Array Attrubutes"
   ]
  },
  {
   "cell_type": "code",
   "execution_count": null,
   "metadata": {},
   "outputs": [],
   "source": [
    "import numpy as np\n",
    "np.random.seed(0) #seed for reproducibility\n",
    "\n",
    "x1 = np.random.randint(10, size=6) #One dimensional array\n",
    "x2 = np.random.randint(10, size=(3, 4)) #Two - Dimensional array\n",
    "x3 = np.random.randint(10, size = (3,4,5)) #Three- dimensional array\n",
    "\n",
    "print(\"x3 ndim: \", x3.ndim)\n",
    "print('x3 shape: ', x3.shape)\n",
    "print('x3 size: ', x3.size)\n",
    "print('x3 type: ', x3.dtype)\n",
    "\n",
    "#Other attributs include itemsize(lists the size(in bytes) of each array)\n",
    "#and nbytes (list the total size (in bytes) of the array)\n",
    "\n",
    "print(\"itemsize: \", x3.itemsize, \"bytes\")\n",
    "print(\"nbytes: \", x3.nbytes, \"bytes\")"
   ]
  },
  {
   "cell_type": "markdown",
   "metadata": {},
   "source": [
    "# Array Indexing: Accessing Single Elements\n"
   ]
  },
  {
   "cell_type": "code",
   "execution_count": null,
   "metadata": {},
   "outputs": [],
   "source": [
    "#Accessing in One dimensional array\n",
    "print(x1)\n",
    "print(x1[0])\n",
    "print(x1[-1])\n",
    "\n",
    "#Accessing mutidemnsional array\n",
    "print(x2)\n",
    "\n",
    "print(x2[0,0])\n",
    "print(x2[2,0])\n",
    "print(x2[2,-1])"
   ]
  },
  {
   "cell_type": "markdown",
   "metadata": {},
   "source": [
    "##### Array Slicing: Accessing Subarrays"
   ]
  },
  {
   "cell_type": "code",
   "execution_count": null,
   "metadata": {},
   "outputs": [],
   "source": [
    "#We can slice notation marcked by the ':' colon \n",
    "#x[start:stop:step] //defualt values are start=0, stop= size of dimension\n",
    "#step = 1.\n",
    "\n",
    "#one-dimensional subarrays\n",
    "x= np.arange(10)\n",
    "print(x)\n",
    "\n",
    "print(x[:5]) #first five elements\n",
    "print(x[5:]) #elements after the index 5\n",
    "print(x[4:7]) #middle subarray\n",
    "print(x[::2]) #every other element\n",
    "print(x[1::2], '\\n') #every other element , starting at index 1\n",
    "\n",
    "#When the step value is negative, the default value for start and stop\n",
    "#swapped. \n",
    "print(x[::-1]) #all the elements, reversed\n",
    "print(x[5::-2]) #reveresed every other from index 5"
   ]
  },
  {
   "cell_type": "markdown",
   "metadata": {},
   "source": [
    "##### Multidemensional Subarrays\n"
   ]
  },
  {
   "cell_type": "code",
   "execution_count": null,
   "metadata": {},
   "outputs": [],
   "source": [
    "print(x2)\n",
    "print(x2[:2, :3]) #two rows, three columns\n",
    "\n",
    "print(x2[:3, ::2]) #all rows, every other column\n",
    "\n",
    "print(x2[::-1, ::-1]) #Subarray dimensions can be reversed together\n",
    "\n",
    "#Accessing array rows and columns. \n",
    "#To achieve this, we combine indexing and slicing, using empty slice marked\n",
    "#by a single colon (:)\n",
    "\n",
    "print(x2[:, 0]) #first column of x2\n",
    "\n",
    "print(x2[0:1, :]) #first row of x2"
   ]
  },
  {
   "cell_type": "markdown",
   "metadata": {},
   "source": [
    "##### Subarrays as no-copy views"
   ]
  },
  {
   "cell_type": "code",
   "execution_count": null,
   "metadata": {},
   "outputs": [],
   "source": [
    "print(x2)\n",
    "\n",
    "#Extracting 2x2 subarray from this x2\n",
    "x2_sub = x2[:2, :2] \n",
    "print(x2_sub)\n",
    "\n",
    "x2_sub[0,0] = 99\n",
    "print(x2_sub)\n",
    "\n",
    "print(x2) #The changes made in x2_sub will affect the orginal database"
   ]
  },
  {
   "cell_type": "markdown",
   "metadata": {},
   "source": [
    "##### Creating copies of arrays"
   ]
  },
  {
   "cell_type": "code",
   "execution_count": null,
   "metadata": {},
   "outputs": [],
   "source": [
    "#We can use copy() method to copy the data within an array or subarray\n",
    "x2_sub_copy= x2[:2,:2].copy()\n",
    "print(x2_sub_copy)\n",
    "\n",
    "x2_sub_copy[0,0] = 42 #Changed the value of the variable\n",
    "print(x2_sub_copy)\n",
    "\n",
    "print(x2) #The original data set is not touched as we copyed the x2"
   ]
  },
  {
   "cell_type": "markdown",
   "metadata": {},
   "source": [
    "# Reshaping of Arrays"
   ]
  },
  {
   "cell_type": "markdown",
   "metadata": {},
   "source": [
    "###### Most flexible way of doing this is with reshape() method"
   ]
  },
  {
   "cell_type": "code",
   "execution_count": null,
   "metadata": {},
   "outputs": [],
   "source": [
    "#For this to work the size of initial array must match the \n",
    "#size of the reshaped array\n",
    "grid = np.arange(1, 10).reshape(3,3)\n",
    "print(grid)\n",
    "\n",
    "#Another reshaping patteren is the conversion of one-dimensional array \n",
    "#into two dimensional row or column matrix\n",
    "\n",
    "x = np.array([1,2,3])\n",
    "print(x.reshape(1,3)) #row vector via reshape\n",
    "\n",
    "#You can also reshape with newaxis keyword within a slice operation\n",
    "x[np.newaxis, :] #row vector via newaxis\n",
    "\n",
    "#column vector via reshape\n",
    "x.reshape(3, 1)\n",
    "\n",
    "#column vector via newaxis\n",
    "x[:,np.newaxis]"
   ]
  },
  {
   "cell_type": "markdown",
   "metadata": {},
   "source": [
    "# Array Concatenation and Splitting"
   ]
  },
  {
   "cell_type": "markdown",
   "metadata": {},
   "source": [
    "###### Concatenation of arrays"
   ]
  },
  {
   "cell_type": "code",
   "execution_count": null,
   "metadata": {},
   "outputs": [],
   "source": [
    "#Concatenation, or joining of two arrays in NumPy, is done through\n",
    "#the routines np.concatenate, np.vstack and np.hstack\n",
    "\n",
    "x = np.array([1,2,3])\n",
    "y = np.array([3,2,1])\n",
    "print(np.concatenate([x,y]))\n",
    "\n",
    "#Concatennating more than two arrays at once\n",
    "z = [99,98,97]\n",
    "print(np.concatenate([x,y,z]))\n",
    "\n",
    "#np.concatenate can also be used for two-dimensinal arrays\n",
    "grid = np.array([[1,2,3],\n",
    "                [4,5,6]])\n",
    "print(np.concatenate([grid,grid])) #concatenate along the first axis\n",
    "\n",
    "#concatenate along the second axis(zero-indexed)\n",
    "np.concatenate([grid, grid],axis=1)\n",
    "\n",
    "#Arrays of mixed dimensions, we can use\n",
    "#np.vstack(vertical stack)\n",
    "#np.hstack(horizontal stack)\n",
    "\n",
    "\n",
    "x = np.arange(1,4)\n",
    "grid = np.random.randint(0,7,size = (2,3))\n",
    "np.vstack([x,grid]) #vertically stack the arrays\n",
    "\n",
    "y = np.array([[99],\n",
    "             [99]]) \n",
    "np.hstack([grid,y]) #horizontally stack the arrays\n"
   ]
  },
  {
   "cell_type": "markdown",
   "metadata": {},
   "source": [
    "###### Splitting of arrays"
   ]
  },
  {
   "cell_type": "code",
   "execution_count": null,
   "metadata": {},
   "outputs": [],
   "source": [
    "#To split a arrays we implement the functions\n",
    "#np.split, np.hsplit and np.vsplit\n",
    "\n",
    "x = [1,2,3,99,99, 3,2,1]\n",
    "x1,x2,x3 = np.split(x, [3,5]) #[3,5] is starting at index 3 and ending at index 4\n",
    "                            #So therefore [3,5] is [99,99] stored in x2\n",
    "                    #and rest of the values in x1 and x3\n",
    "print(x1, x2, x3)\n",
    "\n",
    "grid = np.arange(16).reshape(4,4)\n",
    "grid\n",
    "\n",
    "upper,lower = np.vsplit(grid, [2]) #[2] means 2 rows\n",
    "print(upper)\n",
    "print(lower)\n",
    "\n",
    "left,right = np.hsplit(grid, [2]) #[2] means 2 columns\n",
    "print(left)\n",
    "print(right)"
   ]
  },
  {
   "cell_type": "markdown",
   "metadata": {},
   "source": [
    "# Computation on Numpy Arrays: Universal Functions"
   ]
  },
  {
   "cell_type": "markdown",
   "metadata": {},
   "source": [
    "###### The key to make numpy fast is by the use of vectorized operations, generally implemented through Py's universal functions(ufuns)."
   ]
  },
  {
   "cell_type": "markdown",
   "metadata": {},
   "source": [
    "### The Slowness of Loops\n",
    "Python’s default implementation (known as CPython) does some operations very slowly. "
   ]
  },
  {
   "cell_type": "code",
   "execution_count": null,
   "metadata": {},
   "outputs": [],
   "source": [
    "import numpy as np\n",
    "np.random.seed(0)\n",
    "\n",
    "def compute_reciprocals(values):\n",
    "    output = np.empty(len(values))\n",
    "    for i in range(len(values)):\n",
    "        output[i] = 1.0/values[i]\n",
    "    return output\n",
    "values = np.random.randint(1,10, size = 5)\n",
    "compute_reciprocals(values)"
   ]
  },
  {
   "cell_type": "code",
   "execution_count": null,
   "metadata": {},
   "outputs": [],
   "source": [
    "big_array = np.random.randint(1,100,size= 1000000)\n",
    "%timeit compute_reciprocals(big_array)"
   ]
  },
  {
   "cell_type": "markdown",
   "metadata": {},
   "source": [
    "### Introducing Ufuncs\n",
    "Numpy provides a convenient interface which is known as vectorized operations.\n",
    "The vectorized approach is designed to push the loop into the comiloed layer that underlies Numpy, leading to much faster execution."
   ]
  },
  {
   "cell_type": "code",
   "execution_count": null,
   "metadata": {},
   "outputs": [],
   "source": [
    "print(compute_reciprocals(values))\n",
    "print(1.0/values)\n",
    "%timeit (1.0/big_array)"
   ]
  },
  {
   "cell_type": "markdown",
   "metadata": {},
   "source": [
    "Vectorized oprations in Numpy are implemented via ufuns, whose main purpose is to quickly execute repeated operations on values in NumPy arrays. "
   ]
  },
  {
   "cell_type": "markdown",
   "metadata": {},
   "source": [
    "Ufuncs are extremely flexible and we can operate between two arrays and ufunc are not limited to one dimensional arrays"
   ]
  },
  {
   "cell_type": "code",
   "execution_count": null,
   "metadata": {},
   "outputs": [],
   "source": [
    "np.arange(5)/np.arange(1,6)"
   ]
  },
  {
   "cell_type": "markdown",
   "metadata": {},
   "source": [
    "##### Note: Anytime you see a such a loop in Python script, you should consider whether it can be replaced with a vectorized expression. \n",
    "    "
   ]
  },
  {
   "cell_type": "markdown",
   "metadata": {},
   "source": [
    "### Exploring NumPy's Ufuncs\n",
    "Ufuncs exist in two flavours:\n",
    "- ufuncs: which operate on a singe input\n",
    "- binary ufuncs: which opereate on two inputs"
   ]
  },
  {
   "cell_type": "markdown",
   "metadata": {},
   "source": [
    "#### Array arithmetic\n",
    "The stardard addition, subtraction, multiplication and division can be used"
   ]
  },
  {
   "cell_type": "code",
   "execution_count": null,
   "metadata": {},
   "outputs": [],
   "source": [
    "import numpy as np\n",
    "\n",
    "x = np.arange(4)\n",
    "print(f'x     ={x}')\n",
    "print(f'x+5   = {x + 5}')\n",
    "print(f'x-5   = {x-5}')\n",
    "print(f'x/2   ={x/2}')\n",
    "print(f'x//2  = {x//2}') #floor division\n",
    "\n",
    "\n",
    "#Unary funcs for negation, a** operator for exponentiaiton \n",
    "#a% operator for modules\n",
    "\n",
    "print(f\"-x     = {-x}\")\n",
    "print(f\"x**2   = {x**2}\")\n",
    "print(f\"x%2    = {x%2}\")\n",
    "\n",
    "\n",
    "#We can do Standard order of operations \n",
    "-(0.5*x + 1)**2\n",
    "\n",
    "#All of these arthmetic operations are simply convenient wrappers around\n",
    "#specific functions built into Numpy \n",
    "np.add(x,2)"
   ]
  },
  {
   "cell_type": "markdown",
   "metadata": {},
   "source": [
    "#### Absolute Value "
   ]
  },
  {
   "cell_type": "code",
   "execution_count": null,
   "metadata": {},
   "outputs": [],
   "source": [
    "#As Numpy understand Pyhton arithmetic operators, it also understands\n",
    "#python's built in absolute value functions\n",
    "\n",
    "x = np.array([-2,-1,0,1,2])\n",
    "print('x: ',abs(x))\n",
    "\n",
    "#For Numpy ufuncs is np.absolute or np.abs\n",
    "print('np.absolute :', np.absolute(x))\n",
    "print('np.abs :', np.abs(x))\n",
    "\n",
    "#Handling complex data, which the absolue returns the magnitude\n",
    "x = np.array([3 -4j, 4-3j, 2+0j, 0+1])\n",
    "print('complex data abs: ', np.abs(x))"
   ]
  },
  {
   "cell_type": "markdown",
   "metadata": {},
   "source": [
    "#### Trignometric Functions\n",
    "Most useful function for data data scientist are trigonometri functions"
   ]
  },
  {
   "cell_type": "code",
   "execution_count": null,
   "metadata": {},
   "outputs": [],
   "source": [
    "#Defining an array of angles\n",
    "theta = np.linspace(0, np.pi, 3) \n",
    "print(\"theta     : \",theta)\n",
    "print(\"sin(theta): \",np.sin(theta))\n",
    "print(\"cos(theta): \",np.cos(theta))\n",
    "print(\"tan(theta): \",np.tan(theta))\n",
    "\n",
    "\n",
    "#Inverse trigonometri functions are also available\n",
    "x = [-1,0,1]\n",
    "print('x        = ',(x))\n",
    "print('arcsin(x)= ', np.arcsin(x))\n",
    "print('arccos(x)= ',np.arccos(x))\n",
    "print('arctan(x)= ',np.arctan(x))"
   ]
  },
  {
   "cell_type": "markdown",
   "metadata": {},
   "source": [
    "#### Exponents and Logarithms\n"
   ]
  },
  {
   "cell_type": "code",
   "execution_count": null,
   "metadata": {},
   "outputs": [],
   "source": [
    "#Exponentials\n",
    "x = [1,2,3]\n",
    "print('x      =', x)\n",
    "print('e^x    =', np.exp(x))\n",
    "print('2^x    =',np.exp2(x))\n",
    "print('3^x    =',np.power(3,x))\n",
    "\n",
    "#Inverse Exponential and Logarithms are there, the basic\n",
    "#np.log gives natural logarithms\n",
    "\n",
    "x = [1,2,3,10]\n",
    "print('x        =',x)\n",
    "print('log(x)   =',np.log(x))\n",
    "print('log2(x)  =',np.log2(x))\n",
    "print('log10(x) =',np.log10(x))\n",
    "\n",
    "#Useful for maintaining preicsion with very small input\n",
    "#When x is very small, np.expm1 and log1p functions give more precise\n",
    "#values than raw np.log or np.exp were used\n",
    "x = [0,0.001,0.01,0.1]\n",
    "print('exp(x) - 1 = ',np.expm1(x))\n",
    "print('log(1+x)   = ',np.log1p(x))"
   ]
  },
  {
   "cell_type": "markdown",
   "metadata": {},
   "source": [
    "#### Specialized ufuncs\n",
    "Another excellent source for more specialized and obscure ufuncs is the submodule scipy.special, \n",
    "if you want to compute some obsure mathematical functions on your data"
   ]
  },
  {
   "cell_type": "code",
   "execution_count": null,
   "metadata": {},
   "outputs": [],
   "source": [
    "from scipy import special\n",
    "\n",
    "#Gamma functions (generalized factorials) and related functions\n",
    "\n",
    "x = [1,5,10]\n",
    "print('gamma(x)    =', special.gamma(x))\n",
    "print('ln|gamma(x) =', special.gammaln(x))\n",
    "print('beta(x,2)   =', special.beta(x,2))\n",
    "\n",
    "\n",
    "#Error Function (integral of Gaussion)\n",
    "#its complement, and its inverse\n",
    "x = np.array([0, 0.3, 0.7,1.0])\n",
    "print('erf(x)    =',special.erf(x))\n",
    "print('erfc(x)   =',special.erfc(x))\n",
    "print('erfinv(x) =',special.erfinv(x))"
   ]
  },
  {
   "cell_type": "markdown",
   "metadata": {},
   "source": [
    "### Advanced Ufuns Features"
   ]
  },
  {
   "cell_type": "markdown",
   "metadata": {},
   "source": [
    "#### Specifying Output\n",
    "For large calculation, its useful to be able to specigy the array where the result of the calculation will be stored. Rather than creating a temporary array"
   ]
  },
  {
   "cell_type": "code",
   "execution_count": null,
   "metadata": {},
   "outputs": [],
   "source": [
    "x = np.arange(5)\n",
    "y = np.empty(5)\n",
    "np.multiply(x,10, out = y)\n",
    "print(y)\n",
    "\n",
    "#Computation to every other element of a specified array\n",
    "y = np.zeros(10)\n",
    "np.power(2, x, out = y[::2])\n",
    "print(y)"
   ]
  },
  {
   "cell_type": "markdown",
   "metadata": {},
   "source": [
    "#### Aggregates\n",
    "For binary ufuns, there are some interresting aggrregates that can be compute ddirectly from the obecj"
   ]
  },
  {
   "cell_type": "code",
   "execution_count": null,
   "metadata": {},
   "outputs": [],
   "source": [
    "#calling reduce on the add ufuncs returns the sum of all elements in the array:\n",
    "x = np.arange(1,6)\n",
    "print(np.add.reduce(x)) #Find the sum of all elements \n",
    "\n",
    "\n",
    "#Calling reduce on mutliply ufunc results in the product of all array elements\n",
    "print(np.multiply.reduce(x))\n",
    "\n",
    "#We can store intermediate results of the computation\n",
    "#we can instead use accumulate\n",
    "print(np.add.accumulate(x))\n",
    "print(np.multiply.accumulate(x))"
   ]
  },
  {
   "cell_type": "markdown",
   "metadata": {},
   "source": [
    "#### Outer Products\n",
    "Any ufuncs can compute the output of all pairs of two different inputs using the outer method"
   ]
  },
  {
   "cell_type": "code",
   "execution_count": null,
   "metadata": {},
   "outputs": [],
   "source": [
    "#This allows to create in one line to create things like multiplication table\n",
    "x = np.arange(1,6)\n",
    "np.multiply.outer(x,x)"
   ]
  },
  {
   "cell_type": "markdown",
   "metadata": {},
   "source": [
    "Another extremely useful feature of ufuncs is the ability to operate between arrays of different sizes and shapes, a set of operations known as broadcasting. \n"
   ]
  },
  {
   "cell_type": "markdown",
   "metadata": {},
   "source": [
    "# Aggregations: Min, Max and Everything in Between"
   ]
  },
  {
   "cell_type": "markdown",
   "metadata": {},
   "source": [
    "### Summing the Values in an Array"
   ]
  },
  {
   "cell_type": "code",
   "execution_count": null,
   "metadata": {},
   "outputs": [],
   "source": [
    "import numpy as np\n",
    "l = np.random.random(100)\n",
    "print(sum(l))\n",
    "\n",
    "#Using numpy'sum function np.sum() which is more quick\n",
    "print(np.sum(l))\n",
    "\n",
    "big_array = np.random.rand(1000000)\n",
    "%timeit sum(big_array)\n",
    "%timeit np.sum(big_array) #This is faster"
   ]
  },
  {
   "cell_type": "markdown",
   "metadata": {},
   "source": [
    "###### Note: np.sum() is notsame as sum() function"
   ]
  },
  {
   "cell_type": "markdown",
   "metadata": {},
   "source": [
    "### Minimum and Maximum "
   ]
  },
  {
   "cell_type": "code",
   "execution_count": null,
   "metadata": {},
   "outputs": [],
   "source": [
    "min(big_array), max(big_array)\n",
    "\n",
    "#The np.min() and np.max() is much more faster in finding it\n",
    "np.min(big_array), np.max(big_array)\n",
    "\n",
    "%timeit min(big_array)\n",
    "%timeit np.min(big_array)\n",
    "\n",
    "#for shorter syntax we can use methods of the array object itself\n",
    "print(big_array.min(), big_array.max(), big_array.sum())"
   ]
  },
  {
   "cell_type": "markdown",
   "metadata": {},
   "source": [
    "### Multidimensional Aggregates"
   ]
  },
  {
   "cell_type": "code",
   "execution_count": null,
   "metadata": {},
   "outputs": [],
   "source": [
    "m = np.random.random((3,4)) #3rows and 4 columns\n",
    "print(m)\n",
    "\n",
    "m.sum()\n",
    "\n",
    "#The axis keyword specifies the dimension of the array that will be collapsed\n",
    "#rather than the dimension that will be returned\n",
    "m.min(axis=0) #0 means the columns\n",
    "\n",
    "m.max(axis=1) #1 means the rows"
   ]
  },
  {
   "cell_type": "markdown",
   "metadata": {},
   "source": [
    "### Example: What is the Average Height of US Presidents?"
   ]
  },
  {
   "cell_type": "code",
   "execution_count": null,
   "metadata": {
    "scrolled": true
   },
   "outputs": [],
   "source": [
    "import pandas as pd\n",
    "data = pd.read_csv(r'D:\\Python\\Python Data Science\\data\\president_heights.csv'\n",
    "                   ,index_col=0)\n",
    "data.head()\n",
    "\n",
    "heights = np.array(data['height(cm)'])\n",
    "print(heights)\n",
    "\n",
    "print(\"Mean height:       \",heights.mean())\n",
    "print('Standard Deviation:',heights.std())\n",
    "print('Minimum height:    ',heights.min())\n",
    "print(\"Maximum height:    \",heights.max())\n",
    "\n",
    "\n",
    "print('25th percentile:  ',np.percentile(heights, 25))\n",
    "print('Median         :  ',np.median(heights))\n",
    "print('75th percentile:  ',np.percentile(heights, 75))\n",
    "\n",
    "#To visulize the dataset\n",
    "import matplotlib.pyplot as plt\n",
    "import seaborn\n",
    "seaborn.set() #set plot style\n",
    "\n",
    "plt.hist(heights)\n",
    "plt.title(\"Height Distribution of US Presidents\")\n",
    "plt.xlabel('height (cm)')\n",
    "plt.ylabel('Number');"
   ]
  },
  {
   "cell_type": "markdown",
   "metadata": {},
   "source": [
    "# Computation on Arrays: Broadcasting"
   ]
  },
  {
   "cell_type": "markdown",
   "metadata": {},
   "source": [
    "Another means of vectorizing operations is to use Numpy's braodcasting functionality. \n",
    "Broadcasting is simply a set of rules for applying binary ufunc(addition, subtraction, mulitiplication, etc.) on array sof different sizes. "
   ]
  },
  {
   "cell_type": "markdown",
   "metadata": {},
   "source": [
    "### Introducing Broadcasting"
   ]
  },
  {
   "cell_type": "code",
   "execution_count": null,
   "metadata": {},
   "outputs": [],
   "source": [
    "import numpy as np\n",
    "a = np.arange(0,3)\n",
    "b = np.array([5,5,5])\n",
    "print(a+b)\n",
    "\n",
    "print(a+5)"
   ]
  },
  {
   "cell_type": "markdown",
   "metadata": {},
   "source": [
    "###### Advantage of Numpy's broadcasting is that this duplication of values does not actually take place, but it is useful mental model as we thin about bradcasting"
   ]
  },
  {
   "cell_type": "code",
   "execution_count": null,
   "metadata": {},
   "outputs": [],
   "source": [
    "m = np.ones((3,3))\n",
    "print(m)\n",
    "\n",
    "print(m+a)\n",
    "\n",
    "#More complicated cases can involve broadcasting of both arrays\n",
    "a = np.arange(3)\n",
    "b = np.arange(3)[:,np.newaxis]\n",
    "print(a)\n",
    "print(b)\n",
    "\n",
    "print(a+b)\n",
    "\n",
    "np.ones((3,1)) + np.arange(3)"
   ]
  },
  {
   "cell_type": "markdown",
   "metadata": {},
   "source": [
    "### Rules of Broadcasting"
   ]
  },
  {
   "cell_type": "markdown",
   "metadata": {},
   "source": [
    "###### Broadcasting in Numpy follow a strict set of rules to determine the interaction between the two arrays:\n",
    "\n",
    "Rule 1: If the two arrays differ in their numberof dimensions, the shape of the one with fewer dimensions is padded with ones on its leading (left) side.\n",
    "\n",
    "Rule 2: If the shape of the two arrays does not match in any dimension, the array with shape equal to 1 in that dimension is stretched to match the other shape. \n",
    "\n",
    "Rule 3: If in any dimension the sizes disagree and neither is equal to 1, an error is raised"
   ]
  },
  {
   "cell_type": "markdown",
   "metadata": {},
   "source": [
    "###### Broadcasting example 1"
   ]
  },
  {
   "cell_type": "code",
   "execution_count": null,
   "metadata": {},
   "outputs": [],
   "source": [
    "#Adding a two-dimensional array to a one-dimensional array: \n",
    "m = np.ones((2,3))\n",
    "a = np.arange(3) \n",
    "\n",
    "# #The shapes are \n",
    "# m.shape --> (2,3)\n",
    "# a.shape --> (3,)\n",
    "\n",
    "# #The array has a fewer dimension by rule 1, so we pad it on the left with ones\n",
    "# m.shape --> (2,3)\n",
    "# a.shape --> (1,3)\n",
    "\n",
    "# #By rule 2, the first dimension disagrees ,so we stretch this dimension to match:\n",
    "# m.shape --> (2,3)\n",
    "# a.shape --> (2,3)\n",
    "\n",
    "# #The shapes match we see the final shapewill be (2,3)\n",
    "print(m+a)"
   ]
  },
  {
   "cell_type": "markdown",
   "metadata": {},
   "source": [
    "###### Broadcasting example 2"
   ]
  },
  {
   "cell_type": "code",
   "execution_count": null,
   "metadata": {},
   "outputs": [],
   "source": [
    "#Example where both arrys need to be broadcast:\n",
    "a = np.arange(3).reshape((3,1))\n",
    "b = np.arange(3)\n",
    "\n",
    "# #Start by writing out the shape of the array:\n",
    "# a.shape --> (3,1)\n",
    "# b.shape --> (3,)\n",
    "\n",
    "# #Rule 1 says we must pad the shape of b with ones:\n",
    "# a.shape --> (3,1)\n",
    "# b.shape --> (1,3)\n",
    "\n",
    "# #Rule 2, tells us we upgrade each of these ones to match the corresponding size of the other array:\n",
    "# a.shape(3,3)\n",
    "# b.shape(3,3)\n",
    "\n",
    "#Since the result matches, these shapes are compatible\n",
    "print(a+b)"
   ]
  },
  {
   "cell_type": "markdown",
   "metadata": {},
   "source": [
    "###### Broadcasting example 3"
   ]
  },
  {
   "cell_type": "code",
   "execution_count": null,
   "metadata": {},
   "outputs": [],
   "source": [
    "#Example in which the two arrays are not compatible\n",
    "m = np.ones((3,2))\n",
    "a = np.arange(3)`\n",
    "\n",
    "#This example is different from the 1st example,the matrix m is transposed\n",
    "\n",
    "# #Shapes fo the array:\n",
    "# m.shape --> (3,2)\n",
    "# a.shape --> (3,)\n",
    "\n",
    "# #Rule 1, tells us that we must pad the shape of 'a' with ones:\n",
    "# m.shape --> (3,2)\n",
    "# a.shape --> (1,3)\n",
    "\n",
    "# #Rule 2, the first dimension of 'a' is stretched to match that of 'm':\n",
    "# m.shape --> (3,2)\n",
    "# a.shape --> (3,3)\n",
    "\n",
    "#Rule 3, the final shapes do not match, so these two arrays are \n",
    "#incompatiable\n",
    "\n",
    "m +a"
   ]
  },
  {
   "cell_type": "markdown",
   "metadata": {},
   "source": [
    "### Broadcasting in Practice"
   ]
  },
  {
   "cell_type": "markdown",
   "metadata": {},
   "source": [
    "###### Centering an Array"
   ]
  },
  {
   "cell_type": "code",
   "execution_count": null,
   "metadata": {},
   "outputs": [],
   "source": [
    "x = np.random.random((10,3)) #10 rows, 3 columns\n",
    "\n",
    "#Computing the mean of each feature using the mean aggregate across\n",
    "#first dimension:\n",
    "xmean = x.mean(0)\n",
    "xmean\n",
    "\n",
    "\n",
    "#Now we can center the X array by subracting the mean(this is a \n",
    "#broadcasting opereation)\n",
    "\n",
    "x_centered = x - xmean\n",
    "#to double-check, we can check that the centered array has near zero mean\n",
    "x_centered.mean(0)"
   ]
  },
  {
   "cell_type": "markdown",
   "metadata": {},
   "source": [
    "###### Plotting a two-dimensional function"
   ]
  },
  {
   "cell_type": "markdown",
   "metadata": {},
   "source": [
    "Broadcasting is very useful in displaying images based on two-dimensional functions"
   ]
  },
  {
   "cell_type": "code",
   "execution_count": null,
   "metadata": {},
   "outputs": [],
   "source": [
    "#broadcasting can be used to compute the function across the grid\n",
    "#x and y have 50 steps from 0 to 5\n",
    "x = np.linspace(0,5,50)\n",
    "y = np.linspace(0,5,50)[:,np.newaxis] #horizontally spaced\n",
    "z = np.sin(x)**10+ np.cos(10+y*x)*np.cos(x)\n",
    "\n",
    "#using plt to plot this two-dimensional array\n",
    "%matplotlib inline\n",
    "import matplotlib.pyplot as plt\n",
    "\n",
    "plt.imshow(z,\n",
    "           origin='lower',\n",
    "           extent=[0,5,0,5],\n",
    "           cmap='viridis')\n",
    "plt.colorbar()\n",
    "plt.title('Visulization of a 2D Array');"
   ]
  },
  {
   "cell_type": "markdown",
   "metadata": {},
   "source": [
    "# Comparisons, Masks and Boolean Logic\n",
    "This section covers the use of Boolean masks to examine and manipulate values within NumPy arrays. Masking comes up when you want to extract, modify, count, or otherwise manipulate values in an array based on some criterion"
   ]
  },
  {
   "cell_type": "markdown",
   "metadata": {},
   "source": [
    "### Example: Counting Rainy Days"
   ]
  },
  {
   "cell_type": "code",
   "execution_count": 204,
   "metadata": {},
   "outputs": [
    {
     "name": "stdout",
     "output_type": "stream",
     "text": [
      "Number days without rain       :  215\n",
      "Number days with rain          :  150\n",
      "Days with more than 0.5 inches :  37\n",
      "Rainy days with < 0.1 inches   :  75\n",
      "Median precip on rainy days in 2014 (inches)   :  0.19488188976377951\n",
      "Median precip on summer days in 2014 (inches)  :  0.0\n",
      "Maximum precip on summer days in 2014 (inches) :  0.8503937007874016\n",
      "Median precip on non-summer rainy days (inches):  0.20078740157480315\n"
     ]
    },
    {
     "data": {
      "image/png": "[encoded data removed]",
      "text/plain": [
       "<Figure size 432x288 with 1 Axes>"
      ]
     },
     "metadata": {},
     "output_type": "display_data"
    }
   ],
   "source": [
    "import numpy as np\n",
    "import pandas as pd\n",
    "\n",
    "#use pandas to extract rainfall inches as Numpy array\n",
    "df = pd.read_csv(r'D:\\Python\\Python Data Science\\data\\Seattle2014.csv',\n",
    "                 index_col=0)\n",
    "\n",
    "rainfall = df['PRCP'].values\n",
    "inches = rainfall/254 #1/10mm -- inches\n",
    "inches.shape #Array contains 365 values, giving daily rainfall in inches\n",
    "            #from January 1 to December 31, 2014\n",
    "\n",
    "#Visuallizing, histogram of rainy days\n",
    "%matplotlib inline\n",
    "import matplotlib.pyplot as plt\n",
    "import seaborn; seaborn.set() #set plot styles\n",
    "\n",
    "plt.hist(inches, 40);\n",
    "\n",
    "#Data from the Example: Counting Rainy Days\n",
    "np.sum((inches>0.5) & (inches<1)) #29 days with rainfall between 0.5 and 1.0 inches\n",
    "\n",
    "print('Number days without rain       : ', np.sum(inches == 0))\n",
    "print('Number days with rain          : ',np.sum(inches !=0))\n",
    "print('Days with more than 0.5 inches : ',np.sum(inches > 0.5))\n",
    "print('Rainy days with < 0.1 inches   : ',np.sum((inches > 0) &(inches<0.2)))\n",
    "\n",
    "#Data from the example Counting Rain\n",
    "#Construct a mask of all rainy days\n",
    "rainy = (inches>0)\n",
    "\n",
    "#Construct a mask of all summer days(Jun 21st is the 172nd day)\n",
    "summer = (np.arange(365) - 172 < 90) & (np.arange(365) - 172 > 0)\n",
    "\n",
    "print('Median precip on rainy days in 2014 (inches)   : ',\n",
    "     np.median(inches[rainy]))\n",
    "print('Median precip on summer days in 2014 (inches)  : ',\n",
    "     np.median(inches[summer]))\n",
    "print('Maximum precip on summer days in 2014 (inches) : ',\n",
    "     np.max(inches[summer]))\n",
    "print('Median precip on non-summer rainy days (inches): ',\n",
    "     np.median(inches[rainy & ~summer]))"
   ]
  },
  {
   "cell_type": "markdown",
   "metadata": {},
   "source": [
    "### Comparison Operators as ufuncs"
   ]
  },
  {
   "cell_type": "code",
   "execution_count": 194,
   "metadata": {},
   "outputs": [
    {
     "name": "stdout",
     "output_type": "stream",
     "text": [
      "[ True  True False False False]\n",
      "[False False False  True  True]\n",
      "[ True  True  True False False]\n",
      "[False False  True  True  True]\n",
      "[ True  True False  True  True]\n",
      "[False False  True False False]\n",
      "[ 2  4  6  8 10]\n"
     ]
    },
    {
     "data": {
      "text/plain": [
       "array([False, False, False, False, False])"
      ]
     },
     "execution_count": 194,
     "metadata": {},
     "output_type": "execute_result"
    }
   ],
   "source": [
    "#All Six Standard comparision operations\n",
    "x = np.array([1,2,3,4,5])\n",
    "print(x < 3) #less than\n",
    "print(x > 3) #more than\n",
    "print(x <= 3) #less than or equal\n",
    "print(x >= 3) #more than or equal \n",
    "print(x != 3) #not equal\n",
    "print(x == 3) #equal\n",
    "\n",
    "# comparision of two arrays and include compound expressions\n",
    "print(2 * x) == (x**2)"
   ]
  },
  {
   "cell_type": "code",
   "execution_count": null,
   "metadata": {},
   "outputs": [],
   "source": [
    "#Two Dimensional example:\n",
    "rng = np.random.RandomState(0)\n",
    "x = rng.randint(10, size=(3,4))\n",
    "print(x)\n",
    "\n",
    "x <6"
   ]
  },
  {
   "cell_type": "markdown",
   "metadata": {},
   "source": [
    "### Working with Boolean Arrays"
   ]
  },
  {
   "cell_type": "markdown",
   "metadata": {},
   "source": [
    "###### Counting Entries\n",
    "To count the number of True entries in a Boolean array, np.count_nonzero"
   ]
  },
  {
   "cell_type": "code",
   "execution_count": 195,
   "metadata": {},
   "outputs": [
    {
     "name": "stdout",
     "output_type": "stream",
     "text": [
      "8\n",
      "8\n",
      "[4 2 2]\n",
      "True\n",
      "False\n",
      "True\n",
      "False\n",
      "[ True False  True]\n"
     ]
    }
   ],
   "source": [
    "#Two Dimensional example:\n",
    "rng = np.random.RandomState(0)\n",
    "x = rng.randint(10, size=(3,4))\n",
    "\n",
    "print(np.count_nonzero(x<6)) #Counting how many number are less than 6\n",
    "\n",
    "#Another way to count is by np.sum, where False is interpreted as 0 and \n",
    "#True is interpreted as 1\n",
    "\n",
    "print(np.sum(x<6))\n",
    "\n",
    "#Benefit of np.sum() is we can count in each row\n",
    "#how many values less than 6 in each row?\n",
    "print(np.sum(x<6, axis=1))\n",
    "\n",
    "#If you want to quickly check, whether any or all values are true\n",
    "#we can use np.any() or np.all()\n",
    "\n",
    "#are there any values greater than 8?\n",
    "print(np.any(x>8))\n",
    "\n",
    "#are there any values less than zero?\n",
    "print(np.any(x<0))\n",
    "\n",
    "#are all values less than 10?\n",
    "print(np.all(x<10))\n",
    "\n",
    "#are all values equal to 6?\n",
    "print(np.all(x == 6))\n",
    "\n",
    "#Using np.all() and np.any() along particular axes\n",
    "#are all values in each row less than 8?\n",
    "print(np.all(x<8, axis=1))"
   ]
  },
  {
   "cell_type": "markdown",
   "metadata": {},
   "source": [
    "###### Boolean Operators"
   ]
  },
  {
   "cell_type": "code",
   "execution_count": 181,
   "metadata": {},
   "outputs": [
    {
     "data": {
      "text/plain": [
       "29"
      ]
     },
     "execution_count": 181,
     "metadata": {},
     "output_type": "execute_result"
    }
   ],
   "source": [
    "#Data from the Example: Counting Rainy Days\n",
    "np.sum((inches>0.5) & (inches<1)) #29 days with rainfall between 0.5 and 1.0 inches\n",
    "\n",
    "print('Number days without rain       : ', np.sum(inches == 0))\n",
    "print('Number days with rain          : ',np.sum(inches !=0))\n",
    "print('Days with more than 0.5 inches : ',np.sum(inches > 0.5))\n",
    "print('Rainy days with < 0.1 inches   : ',np.sum((inches > 0) &(inches<0.2)))"
   ]
  },
  {
   "cell_type": "markdown",
   "metadata": {},
   "source": [
    "### Boolean Arrays as Masks\n",
    "A powerful pattern is to use Boolean arays as masks, to select particular subsets of the data themselves."
   ]
  },
  {
   "cell_type": "code",
   "execution_count": 197,
   "metadata": {},
   "outputs": [
    {
     "data": {
      "text/plain": [
       "6"
      ]
     },
     "execution_count": 197,
     "metadata": {},
     "output_type": "execute_result"
    }
   ],
   "source": [
    "#Two Dimensional example:\n",
    "rng = np.random.RandomState(0)\n",
    "x = rng.randint(10, size=(3,4))\n",
    "\n",
    "#Select these values from the array\n",
    "print(x[x<5]) #basically print's out the values which are True"
   ]
  },
  {
   "cell_type": "code",
   "execution_count": 203,
   "metadata": {},
   "outputs": [
    {
     "name": "stdout",
     "output_type": "stream",
     "text": [
      "Median precip on rainy days in 2014 (inches)   :  0.19488188976377951\n",
      "Median precip on summer days in 2014 (inches)  :  0.0\n",
      "Maximum precip on summer days in 2014 (inches) :  0.8503937007874016\n",
      "Median precip on non-summer rainy days (inches):  0.20078740157480315\n"
     ]
    }
   ],
   "source": [
    "#Data from the example Counting Rain\n",
    "\n",
    "#Construct a mask of all rainy days\n",
    "rainy = (inches>0)\n",
    "\n",
    "#Construct a mask of all summer days(Jun 21st is the 172nd day)\n",
    "summer = (np.arange(365) - 172 < 90) & (np.arange(365) - 172 > 0)\n",
    "\n",
    "print('Median precip on rainy days in 2014 (inches)   : ',\n",
    "     np.median(inches[rainy]))\n",
    "print('Median precip on summer days in 2014 (inches)  : ',\n",
    "     np.median(inches[summer]))\n",
    "print('Maximum precip on summer days in 2014 (inches) : ',\n",
    "     np.max(inches[summer]))\n",
    "print('Median precip on non-summer rainy days (inches): ',\n",
    "     np.median(inches[rainy & ~summer]))"
   ]
  },
  {
   "cell_type": "markdown",
   "metadata": {},
   "source": [
    "# Fancy Indexing"
   ]
  },
  {
   "cell_type": "code",
   "execution_count": null,
   "metadata": {},
   "outputs": [],
   "source": []
  }
 ],
 "metadata": {
  "kernelspec": {
   "display_name": "Python 3",
   "language": "python",
   "name": "python3"
  },
  "language_info": {
   "codemirror_mode": {
    "name": "ipython",
    "version": 3
   },
   "file_extension": ".py",
   "mimetype": "text/x-python",
   "name": "python",
   "nbconvert_exporter": "python",
   "pygments_lexer": "ipython3",
   "version": "3.7.6"
  }
 },
 "nbformat": 4,
 "nbformat_minor": 2
}
