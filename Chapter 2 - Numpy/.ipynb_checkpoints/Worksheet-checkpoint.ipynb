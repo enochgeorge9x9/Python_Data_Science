{
 "cells": [
  {
   "cell_type": "code",
   "execution_count": null,
   "metadata": {},
   "outputs": [],
   "source": [
    "import numpy as np\n",
    "np.__version__\n",
    "l = list(range(10))\n",
    "l (list of ints)"
   ]
  },
  {
   "cell_type": "code",
   "execution_count": null,
   "metadata": {},
   "outputs": [],
   "source": [
    "l2 = [str(c) for c in l]\n",
    "l2 (list of strings)"
   ]
  },
  {
   "cell_type": "markdown",
   "metadata": {},
   "source": [
    "# Creating Array from Python Lists"
   ]
  },
  {
   "cell_type": "code",
   "execution_count": null,
   "metadata": {},
   "outputs": [],
   "source": [
    "#integer array:\n",
    "import numpy as numpy\n",
    "np.array([1,4,2.98,5,3], dtype='float32')"
   ]
  },
  {
   "cell_type": "code",
   "execution_count": null,
   "metadata": {},
   "outputs": [],
   "source": [
    "#nested lists result in multidimensional arrays\n",
    "np.array([range(i, i+3) for i in [2,4,6]])"
   ]
  },
  {
   "cell_type": "markdown",
   "metadata": {},
   "source": [
    "Creating Arrays from Scratch"
   ]
  },
  {
   "cell_type": "code",
   "execution_count": null,
   "metadata": {},
   "outputs": [],
   "source": [
    "import numpy as np\n",
    "#Create a length -10 integer array filled with zeros\n",
    "np.zeros(10, dtype=int)\n",
    "\n",
    "#Create a 3x5 floating-point array filled with 1s\n",
    "np.ones((3,5), dtype=float)\n",
    "\n",
    "#Create a 3x5 array with with 3.14\n",
    "np.full((3,5), 3.14)\n",
    "\n",
    "#Create an array filled with linear sequence \n",
    "#Starting at 0, ending at 20, stepping by 2\n",
    "#(This is similar to the built - range() function)\n",
    "np.arange(0,20, 2)\n",
    "\n",
    "\n",
    "#Crate an array of five values evenly spaced between 0 and 1 \n",
    "np.linspace(0,1,5)\n",
    "\n",
    "#Create a 3x3 array of uniformly distributed random values between 0 and 1 \n",
    "\n",
    "np.random.random((3,3))\n",
    "\n",
    "#Create a 3x3 array of random integers in the interval (0,10)\n",
    "np.random.randint(0,10,(3,3))\n",
    "\n",
    "#Create a 3x3 identity matrix\n",
    "np.eye(3)\n",
    "\n",
    "#Create an uninitialized array of three integers\n",
    "#The values will be whatever happens to already exist at that memory location\n",
    "np.empty(3)"
   ]
  },
  {
   "cell_type": "markdown",
   "metadata": {},
   "source": [
    "# Numpy Array Attrubutes"
   ]
  },
  {
   "cell_type": "code",
   "execution_count": null,
   "metadata": {},
   "outputs": [],
   "source": [
    "import numpy as np\n",
    "np.random.seed(0) #seed for reproducibility\n",
    "\n",
    "x1 = np.random.randint(10, size=6) #One dimensional array\n",
    "x2 = np.random.randint(10, size=(3, 4)) #Two - Dimensional array\n",
    "x3 = np.random.randint(10, size = (3,4,5)) #Three- dimensional array\n",
    "\n",
    "print(\"x3 ndim: \", x3.ndim)\n",
    "print('x3 shape: ', x3.shape)\n",
    "print('x3 size: ', x3.size)\n",
    "print('x3 type: ', x3.dtype)\n",
    "\n",
    "#Other attributs include itemsize(lists the size(in bytes) of each array)\n",
    "#and nbytes (list the total size (in bytes) of the array)\n",
    "\n",
    "print(\"itemsize: \", x3.itemsize, \"bytes\")\n",
    "print(\"nbytes: \", x3.nbytes, \"bytes\")"
   ]
  },
  {
   "cell_type": "markdown",
   "metadata": {},
   "source": [
    "# Array Indexing: Accessing Single Elements\n"
   ]
  },
  {
   "cell_type": "code",
   "execution_count": null,
   "metadata": {},
   "outputs": [],
   "source": [
    "#Accessing in One dimensional array\n",
    "print(x1)\n",
    "print(x1[0])\n",
    "print(x1[-1])\n",
    "\n",
    "#Accessing mutidemnsional array\n",
    "print(x2)\n",
    "\n",
    "print(x2[0,0])\n",
    "print(x2[2,0])\n",
    "print(x2[2,-1])"
   ]
  },
  {
   "cell_type": "markdown",
   "metadata": {},
   "source": [
    "##### Array Slicing: Accessing Subarrays"
   ]
  },
  {
   "cell_type": "code",
   "execution_count": null,
   "metadata": {},
   "outputs": [],
   "source": [
    "#We can slice notation marcked by the ':' colon \n",
    "#x[start:stop:step] //defualt values are start=0, stop= size of dimension\n",
    "#step = 1.\n",
    "\n",
    "#one-dimensional subarrays\n",
    "x= np.arange(10)\n",
    "print(x)\n",
    "\n",
    "print(x[:5]) #first five elements\n",
    "print(x[5:]) #elements after the index 5\n",
    "print(x[4:7]) #middle subarray\n",
    "print(x[::2]) #every other element\n",
    "print(x[1::2], '\\n') #every other element , starting at index 1\n",
    "\n",
    "#When the step value is negative, the default value for start and stop\n",
    "#swapped. \n",
    "print(x[::-1]) #all the elements, reversed\n",
    "print(x[5::-2]) #reveresed every other from index 5"
   ]
  },
  {
   "cell_type": "markdown",
   "metadata": {},
   "source": [
    "##### Multidemensional Subarrays\n"
   ]
  },
  {
   "cell_type": "code",
   "execution_count": null,
   "metadata": {},
   "outputs": [],
   "source": [
    "print(x2)\n",
    "print(x2[:2, :3]) #two rows, three columns\n",
    "\n",
    "print(x2[:3, ::2]) #all rows, every other column\n",
    "\n",
    "print(x2[::-1, ::-1]) #Subarray dimensions can be reversed together\n",
    "\n",
    "#Accessing array rows and columns. \n",
    "#To achieve this, we combine indexing and slicing, using empty slice marked\n",
    "#by a single colon (:)\n",
    "\n",
    "print(x2[:, 0]) #first column of x2\n",
    "\n",
    "print(x2[0:1, :]) #first row of x2"
   ]
  },
  {
   "cell_type": "markdown",
   "metadata": {},
   "source": [
    "##### Subarrays as no-copy views"
   ]
  },
  {
   "cell_type": "code",
   "execution_count": null,
   "metadata": {},
   "outputs": [],
   "source": [
    "print(x2)\n",
    "\n",
    "#Extracting 2x2 subarray from this x2\n",
    "x2_sub = x2[:2, :2] \n",
    "print(x2_sub)\n",
    "\n",
    "x2_sub[0,0] = 99\n",
    "print(x2_sub)\n",
    "\n",
    "print(x2) #The changes made in x2_sub will affect the orginal database"
   ]
  },
  {
   "cell_type": "markdown",
   "metadata": {},
   "source": [
    "##### Creating copies of arrays"
   ]
  },
  {
   "cell_type": "code",
   "execution_count": null,
   "metadata": {},
   "outputs": [],
   "source": [
    "#We can use copy() method to copy the data within an array or subarray\n",
    "x2_sub_copy= x2[:2,:2].copy()\n",
    "print(x2_sub_copy)\n",
    "\n",
    "x2_sub_copy[0,0] = 42 #Changed the value of the variable\n",
    "print(x2_sub_copy)\n",
    "\n",
    "print(x2) #The original data set is not touched as we copyed the x2"
   ]
  },
  {
   "cell_type": "markdown",
   "metadata": {},
   "source": [
    "# Reshaping of Arrays"
   ]
  },
  {
   "cell_type": "markdown",
   "metadata": {},
   "source": [
    "###### Most flexible way of doing this is with reshape() method"
   ]
  },
  {
   "cell_type": "code",
   "execution_count": null,
   "metadata": {},
   "outputs": [],
   "source": [
    "#For this to work the size of initial array must match the \n",
    "#size of the reshaped array\n",
    "grid = np.arange(1, 10).reshape(3,3)\n",
    "print(grid)\n",
    "\n",
    "#Another reshaping patteren is the conversion of one-dimensional array \n",
    "#into two dimensional row or column matrix\n",
    "\n",
    "x = np.array([1,2,3])\n",
    "print(x.reshape(1,3)) #row vector via reshape\n",
    "\n",
    "#You can also reshape with newaxis keyword within a slice operation\n",
    "x[np.newaxis, :] #row vector via newaxis\n",
    "\n",
    "#column vector via reshape\n",
    "x.reshape(3, 1)\n",
    "\n",
    "#column vector via newaxis\n",
    "x[:,np.newaxis]"
   ]
  },
  {
   "cell_type": "markdown",
   "metadata": {},
   "source": [
    "# Array Concatenation and Splitting"
   ]
  },
  {
   "cell_type": "markdown",
   "metadata": {},
   "source": [
    "###### Concatenation of arrays"
   ]
  },
  {
   "cell_type": "code",
   "execution_count": null,
   "metadata": {},
   "outputs": [],
   "source": [
    "#Concatenation, or joining of two arrays in NumPy, is done through\n",
    "#the routines np.concatenate, np.vstack and np.hstack\n",
    "\n",
    "x = np.array([1,2,3])\n",
    "y = np.array([3,2,1])\n",
    "print(np.concatenate([x,y]))\n",
    "\n",
    "#Concatennating more than two arrays at once\n",
    "z = [99,98,97]\n",
    "print(np.concatenate([x,y,z]))\n",
    "\n",
    "#np.concatenate can also be used for two-dimensinal arrays\n",
    "grid = np.array([[1,2,3],\n",
    "                [4,5,6]])\n",
    "print(np.concatenate([grid,grid])) #concatenate along the first axis\n",
    "\n",
    "#concatenate along the second axis(zero-indexed)\n",
    "np.concatenate([grid, grid],axis=1)\n",
    "\n",
    "#Arrays of mixed dimensions, we can use\n",
    "#np.vstack(vertical stack)\n",
    "#np.hstack(horizontal stack)\n",
    "\n",
    "\n",
    "x = np.arange(1,4)\n",
    "grid = np.random.randint(0,7,size = (2,3))\n",
    "np.vstack([x,grid]) #vertically stack the arrays\n",
    "\n",
    "y = np.array([[99],\n",
    "             [99]]) \n",
    "np.hstack([grid,y]) #horizontally stack the arrays\n"
   ]
  },
  {
   "cell_type": "markdown",
   "metadata": {},
   "source": [
    "###### Splitting of arrays"
   ]
  },
  {
   "cell_type": "code",
   "execution_count": null,
   "metadata": {},
   "outputs": [],
   "source": [
    "#To split a arrays we implement the functions\n",
    "#np.split, np.hsplit and np.vsplit\n",
    "\n",
    "x = [1,2,3,99,99, 3,2,1]\n",
    "x1,x2,x3 = np.split(x, [3,5]) #[3,5] is starting at index 3 and ending at index 4\n",
    "                            #So therefore [3,5] is [99,99] stored in x2\n",
    "                    #and rest of the values in x1 and x3\n",
    "print(x1, x2, x3)\n",
    "\n",
    "grid = np.arange(16).reshape(4,4)\n",
    "grid\n",
    "\n",
    "upper,lower = np.vsplit(grid, [2]) #[2] means 2 rows\n",
    "print(upper)\n",
    "print(lower)\n",
    "\n",
    "left,right = np.hsplit(grid, [2]) #[2] means 2 columns\n",
    "print(left)\n",
    "print(right)"
   ]
  },
  {
   "cell_type": "markdown",
   "metadata": {},
   "source": [
    "# Computation on Numpy Arrays: Universal Functions"
   ]
  },
  {
   "cell_type": "markdown",
   "metadata": {},
   "source": [
    "###### The key to make numpy fast is by the use of vectorized operations, generally implemented through Py's universal functions(ufuns)."
   ]
  },
  {
   "cell_type": "markdown",
   "metadata": {},
   "source": [
    "### The Slowness of Loops\n",
    "Python’s default implementation (known as CPython) does some operations very slowly. "
   ]
  },
  {
   "cell_type": "code",
   "execution_count": 95,
   "metadata": {},
   "outputs": [
    {
     "data": {
      "text/plain": [
       "array([0.16666667, 1.        , 0.25      , 0.25      , 0.125     ])"
      ]
     },
     "execution_count": 95,
     "metadata": {},
     "output_type": "execute_result"
    }
   ],
   "source": [
    "import numpy as np\n",
    "np.random.seed(0)\n",
    "\n",
    "def compute_reciprocals(values):\n",
    "    output = np.empty(len(values))\n",
    "    for i in range(len(values)):\n",
    "        output[i] = 1.0/values[i]\n",
    "    return output\n",
    "values = np.random.randint(1,10, size = 5)\n",
    "compute_reciprocals(values)"
   ]
  },
  {
   "cell_type": "code",
   "execution_count": 97,
   "metadata": {},
   "outputs": [
    {
     "name": "stdout",
     "output_type": "stream",
     "text": [
      "2.25 s ± 35.2 ms per loop (mean ± std. dev. of 7 runs, 1 loop each)\n"
     ]
    }
   ],
   "source": [
    "big_array = np.random.randint(1,100,size= 1000000)\n",
    "%timeit compute_reciprocals(big_array)"
   ]
  },
  {
   "cell_type": "markdown",
   "metadata": {},
   "source": [
    "### Introducing Ufuncs\n",
    "Numpy provides a convenient interface which is known as vectorized operations.\n",
    "The vectorized approach is designed to push the loop into the comiloed layer that underlies Numpy, leading to much faster execution."
   ]
  },
  {
   "cell_type": "code",
   "execution_count": 102,
   "metadata": {},
   "outputs": [
    {
     "name": "stdout",
     "output_type": "stream",
     "text": [
      "[0.16666667 1.         0.25       0.25       0.125     ]\n",
      "[0.16666667 1.         0.25       0.25       0.125     ]\n",
      "4.21 ms ± 65 µs per loop (mean ± std. dev. of 7 runs, 100 loops each)\n"
     ]
    }
   ],
   "source": [
    "print(compute_reciprocals(values))\n",
    "print(1.0/values)\n",
    "%timeit (1.0/big_array)"
   ]
  },
  {
   "cell_type": "markdown",
   "metadata": {},
   "source": [
    "Vectorized oprations in Numpy are implemented via ufuns, whose main purpose is to quickly execute repeated operations on values in NumPy arrays. "
   ]
  },
  {
   "cell_type": "markdown",
   "metadata": {},
   "source": [
    "Ufuncs are extremely flexible and we can operate between two arrays and ufunc are not limited to one dimensional arrays"
   ]
  },
  {
   "cell_type": "code",
   "execution_count": 103,
   "metadata": {},
   "outputs": [
    {
     "data": {
      "text/plain": [
       "array([0.        , 0.5       , 0.66666667, 0.75      , 0.8       ])"
      ]
     },
     "execution_count": 103,
     "metadata": {},
     "output_type": "execute_result"
    }
   ],
   "source": [
    "np.arange(5)/np.arange(1,6)"
   ]
  },
  {
   "cell_type": "markdown",
   "metadata": {},
   "source": [
    "##### Note: Anytime you see a such a loop in Python script, you should consider whether it can be replaced with a vectorized expression. \n",
    "    "
   ]
  },
  {
   "cell_type": "code",
   "execution_count": null,
   "metadata": {},
   "outputs": [],
   "source": []
  }
 ],
 "metadata": {
  "kernelspec": {
   "display_name": "Python 3",
   "language": "python",
   "name": "python3"
  },
  "language_info": {
   "codemirror_mode": {
    "name": "ipython",
    "version": 3
   },
   "file_extension": ".py",
   "mimetype": "text/x-python",
   "name": "python",
   "nbconvert_exporter": "python",
   "pygments_lexer": "ipython3",
   "version": "3.7.6"
  }
 },
 "nbformat": 4,
 "nbformat_minor": 2
}
